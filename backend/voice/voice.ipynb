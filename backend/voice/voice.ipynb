{
 "cells": [
  {
   "cell_type": "code",
   "execution_count": 1,
   "metadata": {},
   "outputs": [],
   "source": [
    "# import moviepy.editor as mp\n",
    "# import librosa\n",
    "# import numpy as np"
   ]
  },
  {
   "cell_type": "code",
   "execution_count": 2,
   "metadata": {},
   "outputs": [],
   "source": [
    "# def calculate_boldness(audio_data, sr):\n",
    "#     boldness_metric = np.mean(librosa.feature.zero_crossing_rate(y=audio_data))\n",
    "#     return boldness_metric"
   ]
  },
  {
   "cell_type": "code",
   "execution_count": 3,
   "metadata": {},
   "outputs": [],
   "source": [
    "# def main(video_path):\n",
    "    \n",
    "#     video = mp.VideoFileClip(video_path)\n",
    "#     audio = video.audio.to_soundarray()\n",
    "#     mono_audio = np.mean(audio, axis=1)\n",
    "#     sr = audio.shape[0] / video.duration    \n",
    "#     boldness = calculate_boldness(mono_audio, sr)\n",
    "\n",
    "#     print(f\"Boldness Percentage: {boldness * 1000:.2f}%\")"
   ]
  },
  {
   "cell_type": "code",
   "execution_count": 4,
   "metadata": {},
   "outputs": [],
   "source": [
    "# # if __name__ == \"__main__\":\n",
    "# video_path = \"sample_voice1.mp4\"\n",
    "# main(video_path)\n"
   ]
  },
  {
   "cell_type": "code",
   "execution_count": 5,
   "metadata": {},
   "outputs": [
    {
     "name": "stdout",
     "output_type": "stream",
     "text": [
      "Boldness Percentage: 69.41%\n"
     ]
    }
   ],
   "source": [
    "from voice import main\n",
    "\n",
    "video_path = \"/home/jegathees5555/Documents/recruitz/backend/voice/sample_voice1.mp4\"\n",
    "boldness_percentage = main(video_path)\n",
    "print(f\"Boldness Percentage: {boldness_percentage:.2f}%\")\n"
   ]
  }
 ],
 "metadata": {
  "kernelspec": {
   "display_name": "Python 3",
   "language": "python",
   "name": "python3"
  },
  "language_info": {
   "codemirror_mode": {
    "name": "ipython",
    "version": 3
   },
   "file_extension": ".py",
   "mimetype": "text/x-python",
   "name": "python",
   "nbconvert_exporter": "python",
   "pygments_lexer": "ipython3",
   "version": "3.10.12"
  },
  "orig_nbformat": 4
 },
 "nbformat": 4,
 "nbformat_minor": 2
}
