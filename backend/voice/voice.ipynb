{
 "cells": [
  {
   "cell_type": "code",
   "execution_count": 8,
   "metadata": {},
   "outputs": [],
   "source": [
    "# import moviepy.editor as mp\n",
    "# import librosa\n",
    "# import numpy as np"
   ]
  },
  {
   "cell_type": "code",
   "execution_count": 9,
   "metadata": {},
   "outputs": [],
   "source": [
    "# def calculate_boldness(audio_data, sr):\n",
    "#     boldness_metric = np.mean(librosa.feature.zero_crossing_rate(y=audio_data))\n",
    "#     return boldness_metric"
   ]
  },
  {
   "cell_type": "code",
   "execution_count": 10,
   "metadata": {},
   "outputs": [],
   "source": [
    "# def main(video_path):\n",
    "    \n",
    "#     video = mp.VideoFileClip(video_path)\n",
    "#     audio = video.audio.to_soundarray()\n",
    "#     mono_audio = np.mean(audio, axis=1)\n",
    "#     sr = audio.shape[0] / video.duration    \n",
    "#     boldness = calculate_boldness(mono_audio, sr)\n",
    "\n",
    "#     print(f\"Boldness Percentage: {boldness * 1000:.2f}%\")"
   ]
  },
  {
   "cell_type": "code",
   "execution_count": 11,
   "metadata": {},
   "outputs": [],
   "source": [
    "# # if __name__ == \"__main__\":\n",
    "# video_path = \"sample_voice1.mp4\"\n",
    "# main(video_path)\n"
   ]
  },
  {
   "cell_type": "code",
   "execution_count": 12,
   "metadata": {},
   "outputs": [],
   "source": [
    "# from voice import main\n",
    "\n",
    "# video_path = \"/home/jegathees5555/Documents/recruitz/backend/voice/sample_voice1.mp4\"\n",
    "# boldness_percentage = main(video_path)\n",
    "# print(f\"Boldness Percentage: {boldness_percentage:.2f}%\")\n"
   ]
  },
  {
   "cell_type": "code",
   "execution_count": 13,
   "metadata": {},
   "outputs": [],
   "source": [
    "import moviepy.editor as mp\n",
    "import librosa\n",
    "import numpy as np"
   ]
  },
  {
   "cell_type": "code",
   "execution_count": 14,
   "metadata": {},
   "outputs": [],
   "source": [
    "def calculate_boldness(audio_data, sr):\n",
    "    zero_crossing_rate = np.mean(librosa.feature.zero_crossing_rate(y=audio_data))\n",
    "    spectral_centroid = np.mean(librosa.feature.spectral_centroid(y=audio_data, sr=sr))\n",
    "    spectral_contrast = np.mean(librosa.feature.spectral_contrast(y=audio_data, sr=sr))\n",
    "    mfccs = np.mean(librosa.feature.mfcc(y=audio_data, sr=sr, n_mfcc=13))\n",
    "\n",
    "    # You can adjust the feature weights based on their importance\n",
    "    feature_weights = {\n",
    "        \"zero_crossing_rate\": 0.4,\n",
    "        \"spectral_centroid\": 0.3,\n",
    "        \"spectral_contrast\": 0.2,\n",
    "        \"mfccs\": 0.1\n",
    "    }\n",
    "\n",
    "    boldness_metric = (\n",
    "        feature_weights[\"zero_crossing_rate\"] * zero_crossing_rate +\n",
    "        feature_weights[\"spectral_centroid\"] * spectral_centroid +\n",
    "        feature_weights[\"spectral_contrast\"] * spectral_contrast +\n",
    "        feature_weights[\"mfccs\"] * mfccs\n",
    "    )\n",
    "\n",
    "    # Normalize the boldness metric to a 0-100 score\n",
    "    max_possible_score = sum(feature_weights.values())\n",
    "    boldness_score = (boldness_metric / max_possible_score) *0.1\n",
    "\n",
    "    return boldness_score"
   ]
  },
  {
   "cell_type": "code",
   "execution_count": 20,
   "metadata": {},
   "outputs": [],
   "source": [
    "def main(video_path):\n",
    "    video = mp.VideoFileClip(video_path)\n",
    "    \n",
    "    # Get the duration of the video using video.duration attribute\n",
    "    video_duration = video.duration\n",
    "    \n",
    "    audio = video.audio.to_soundarray()\n",
    "    mono_audio = np.mean(audio, axis=1)\n",
    "    sr = audio.shape[0] / video_duration    \n",
    "    boldness = calculate_boldness(mono_audio, sr)\n",
    "\n",
    "    print(f\"Boldness Percentage: {boldness:.2f}%\")\n",
    "    return boldness"
   ]
  },
  {
   "cell_type": "code",
   "execution_count": 22,
   "metadata": {},
   "outputs": [
    {
     "name": "stdout",
     "output_type": "stream",
     "text": [
      "Boldness Percentage: 82.91%\n"
     ]
    }
   ],
   "source": [
    "if __name__ == \"__main__\":\n",
    "    video_path = '/home/jegathees5555/Documents/recruitz/backend/video/uploaded_video.webm'\n",
    "    main('/home/jegathees5555/Documents/recruitz/backend/voice/sample_voice1.mp4')"
   ]
  }
 ],
 "metadata": {
  "kernelspec": {
   "display_name": "Python 3",
   "language": "python",
   "name": "python3"
  },
  "language_info": {
   "codemirror_mode": {
    "name": "ipython",
    "version": 3
   },
   "file_extension": ".py",
   "mimetype": "text/x-python",
   "name": "python",
   "nbconvert_exporter": "python",
   "pygments_lexer": "ipython3",
   "version": "3.10.12"
  },
  "orig_nbformat": 4
 },
 "nbformat": 4,
 "nbformat_minor": 2
}
