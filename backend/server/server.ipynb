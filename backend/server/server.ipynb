{
 "cells": [
  {
   "cell_type": "code",
   "execution_count": 1,
   "metadata": {},
   "outputs": [],
   "source": [
    "from flask import Flask, request, jsonify\n",
    "from flask_cors import CORS\n",
    "from IPython import get_ipython\n",
    "import os\n",
    "import base64\n",
    "from pyngrok import ngrok\n",
    "import random\n",
    "import eye_tracking\n",
    "import voice\n",
    "import voice_output"
   ]
  },
  {
   "cell_type": "code",
   "execution_count": 2,
   "metadata": {},
   "outputs": [],
   "source": [
    "# pip install import-ipynb\n",
    "# import import_ipynb\n",
    "# from \"../voice\" import voice.ipynb\n",
    "# %run ../voice/voice.ipynb\n",
    "# import sys\n",
    "# sys.path.append(\"../voice\")\n",
    "# sys.path.append(\"../video\")\n",
    "# sys.path.append(\"../eye_track\")\n",
    "# from eye_track import eye_tracking as eye_main\n",
    "\n",
    "\n"
   ]
  },
  {
   "cell_type": "code",
   "execution_count": 3,
   "metadata": {},
   "outputs": [
    {
     "data": {
      "text/plain": [
       "<flask_cors.extension.CORS at 0x7f1b961e3730>"
      ]
     },
     "execution_count": 3,
     "metadata": {},
     "output_type": "execute_result"
    }
   ],
   "source": [
    "app = Flask(__name__)\n",
    "CORS(app)"
   ]
  },
  {
   "cell_type": "code",
   "execution_count": 4,
   "metadata": {},
   "outputs": [],
   "source": [
    "# Set the path to store videos\n",
    "UPLOAD_FOLDER = '/home/jegathees5555/Documents/recruitz/backend/video/'\n",
    "app.config['UPLOAD_FOLDER'] = UPLOAD_FOLDER"
   ]
  },
  {
   "cell_type": "code",
   "execution_count": 5,
   "metadata": {},
   "outputs": [],
   "source": [
    "def upload_video(video_data):        \n",
    "   \n",
    "\n",
    "    if video_data:\n",
    "        video_name = 'uploaded_video.webm'\n",
    "        video_path = os.path.join(app.config['UPLOAD_FOLDER'], video_name)\n",
    "        print(video_path)\n",
    "        print(video_name)\n",
    "        video_data.save(video_path)  # Save the file\n",
    "        \n",
    "        \n",
    "        \n",
    "        # return result\n",
    "        return jsonify({'message': 'Video uploaded successfully'}), 200\n",
    "    else:\n",
    "        return jsonify({'error': 'No video data provided'}), 400"
   ]
  },
  {
   "cell_type": "code",
   "execution_count": 6,
   "metadata": {},
   "outputs": [],
   "source": [
    "def eye_track_module():\n",
    "    # Run the other Jupyter notebook with the correct path\n",
    "        eye_tracking_notebook_path = '/home/jegathees5555/Documents/recruitz/backend/eye_track/EyeTracking.ipynb'\n",
    "        # get_ipython().run_line_magic('run', eye_tracking_notebook_path)\n",
    "\n",
    "        result = eye_tracking.eye_tracking_method('/home/jegathees5555/Documents/recruitz/backend/video/uploaded_video.webm')\n",
    "        print(result)\n",
    "        return result"
   ]
  },
  {
   "cell_type": "code",
   "execution_count": 7,
   "metadata": {},
   "outputs": [],
   "source": [
    "# from backend.eye_track.eye_tracking import eye_tracking\n",
    "\n",
    "\n",
    "@app.route('/upload_video_new', methods=['POST'])\n",
    "def upload_frontend_video():\n",
    "    try:\n",
    "         # Remove the assumption of JSON data\n",
    "        video_data = request.files['videoData']\n",
    "        upload_video(video_data)\n",
    "    except Exception as e:\n",
    "        return jsonify({'error': str(e)}), 500\n",
    "    \n",
    "    try:\n",
    "        result = eye_track_module()\n",
    "    except Exception as e:\n",
    "        return jsonify({'error': str(e)}), 500\n",
    "    \n",
    "    result_str = str(result)\n",
    "\n",
    "    return jsonify({'message': 'Video uploaded successfully', 'result': result_str}), 200\n",
    "    "
   ]
  },
  {
   "cell_type": "code",
   "execution_count": 8,
   "metadata": {},
   "outputs": [],
   "source": [
    "@app.route('/get_result', methods=['GET'])\n",
    "def getResult():\n",
    "    try:\n",
    "        video_path = '/home/jegathees5555/Documents/recruitz/backend/video/uploaded_video.webm'\n",
    "        eye_contact = eye_tracking.eye_tracking_method(video_path)\n",
    "        voice.voice_extraction_main()\n",
    "        # voice_quality_analysis = voice_output.voice_quality()\n",
    "        clarity = voice_output.calculate_clarity()\n",
    "        boldness = voice_output.calculate_boldness()\n",
    "        confidence = (eye_contact+clarity+boldness)/3\n",
    "        overall = (eye_contact+boldness+clarity+confidence)//4\n",
    "        # Create the JSON response within the application context\n",
    "        with app.app_context():\n",
    "            return jsonify({ \"eye_contact\": eye_contact , \"boldness\" : boldness, \"clarity\" : clarity, \"confidence\" : confidence, \"overall\" : overall})\n",
    "    except Exception as e:\n",
    "        return \"Error occurred: \" + str(e), 500\n"
   ]
  },
  {
   "cell_type": "code",
   "execution_count": 9,
   "metadata": {},
   "outputs": [],
   "source": [
    "# if __name__ == '__main__':\n",
    "#     # Start the Flask app\n",
    "#     app.run()"
   ]
  },
  {
   "cell_type": "code",
   "execution_count": 10,
   "metadata": {},
   "outputs": [
    {
     "name": "stderr",
     "output_type": "stream",
     "text": [
      "t=2023-08-17T07:15:37+0530 lvl=warn msg=\"ngrok config file found at legacy location, move to XDG location\" xdg_path=/home/jegathees5555/.config/ngrok/ngrok.yml legacy_path=/home/jegathees5555/.ngrok2/ngrok.yml\n"
     ]
    },
    {
     "name": "stdout",
     "output_type": "stream",
     "text": [
      "Public URL: https://b24f-2409-4072-e93-d242-ef4a-19ce-ca03-1a73.ngrok.io\n",
      " * Serving Flask app '__main__'\n",
      " * Debug mode: off\n"
     ]
    },
    {
     "name": "stderr",
     "output_type": "stream",
     "text": [
      "WARNING: This is a development server. Do not use it in a production deployment. Use a production WSGI server instead.\n",
      " * Running on http://localhost:5000\n",
      "Press CTRL+C to quit\n"
     ]
    },
    {
     "name": "stdout",
     "output_type": "stream",
     "text": [
      "Average Gaze Percentage: -0.96\n",
      "95.57\n"
     ]
    },
    {
     "name": "stderr",
     "output_type": "stream",
     "text": [
      "ffmpeg version 4.4.2-0ubuntu0.22.04.1 Copyright (c) 2000-2021 the FFmpeg developers\n",
      "  built with gcc 11 (Ubuntu 11.2.0-19ubuntu1)\n",
      "  configuration: --prefix=/usr --extra-version=0ubuntu0.22.04.1 --toolchain=hardened --libdir=/usr/lib/x86_64-linux-gnu --incdir=/usr/include/x86_64-linux-gnu --arch=amd64 --enable-gpl --disable-stripping --enable-gnutls --enable-ladspa --enable-libaom --enable-libass --enable-libbluray --enable-libbs2b --enable-libcaca --enable-libcdio --enable-libcodec2 --enable-libdav1d --enable-libflite --enable-libfontconfig --enable-libfreetype --enable-libfribidi --enable-libgme --enable-libgsm --enable-libjack --enable-libmp3lame --enable-libmysofa --enable-libopenjpeg --enable-libopenmpt --enable-libopus --enable-libpulse --enable-librabbitmq --enable-librubberband --enable-libshine --enable-libsnappy --enable-libsoxr --enable-libspeex --enable-libsrt --enable-libssh --enable-libtheora --enable-libtwolame --enable-libvidstab --enable-libvorbis --enable-libvpx --enable-libwebp --enable-libx265 --enable-libxml2 --enable-libxvid --enable-libzimg --enable-libzmq --enable-libzvbi --enable-lv2 --enable-omx --enable-openal --enable-opencl --enable-opengl --enable-sdl2 --enable-pocketsphinx --enable-librsvg --enable-libmfx --enable-libdc1394 --enable-libdrm --enable-libiec61883 --enable-chromaprint --enable-frei0r --enable-libx264 --enable-shared\n",
      "  libavutil      56. 70.100 / 56. 70.100\n",
      "  libavcodec     58.134.100 / 58.134.100\n",
      "  libavformat    58. 76.100 / 58. 76.100\n",
      "  libavdevice    58. 13.100 / 58. 13.100\n",
      "  libavfilter     7.110.100 /  7.110.100\n",
      "  libswscale      5.  9.100 /  5.  9.100\n",
      "  libswresample   3.  9.100 /  3.  9.100\n",
      "  libpostproc    55.  9.100 / 55.  9.100\n",
      "Input #0, matroska,webm, from '/home/jegathees5555/Documents/recruitz/backend/server/uploaded_video.webm':\n",
      "  Metadata:\n",
      "    encoder         : Chrome\n",
      "  Duration: N/A, start: 0.000000, bitrate: N/A\n",
      "  Stream #0:0(eng): Audio: opus, 48000 Hz, mono, fltp (default)\n",
      "  Stream #0:1(eng): Video: vp8, yuv420p(progressive), 640x480, SAR 1:1 DAR 4:3, 10 fps, 10 tbr, 1k tbn, 1k tbc (default)\n",
      "    Metadata:\n",
      "      alpha_mode      : 1\n",
      "Stream mapping:\n",
      "  Stream #0:0 -> #0:0 (opus (native) -> mp3 (libmp3lame))\n",
      "Press [q] to stop, [?] for help\n",
      "Output #0, mp3, to '/home/jegathees5555/Documents/recruitz/backend/audio/output.mp3':\n",
      "  Metadata:\n",
      "    TSSE            : Lavf58.76.100\n",
      "  Stream #0:0(eng): Audio: mp3, 48000 Hz, mono, fltp (default)\n",
      "    Metadata:\n",
      "      encoder         : Lavc58.134.100 libmp3lame\n",
      "size=      18kB time=00:00:02.25 bitrate=  66.2kbits/s speed=77.1x    \n",
      "video:0kB audio:18kB subtitle:0kB other streams:0kB global headers:0kB muxing overhead: 1.285807%\n",
      "127.0.0.1 - - [17/Aug/2023 07:15:44] \"GET /get_result HTTP/1.1\" 200 -\n"
     ]
    },
    {
     "name": "stdout",
     "output_type": "stream",
     "text": [
      "/home/jegathees5555/Documents/recruitz/backend/video/uploaded_video.webm\n",
      "uploaded_video.webm\n"
     ]
    },
    {
     "name": "stderr",
     "output_type": "stream",
     "text": [
      "127.0.0.1 - - [17/Aug/2023 07:18:07] \"POST /upload_video_new HTTP/1.1\" 200 -\n"
     ]
    },
    {
     "name": "stdout",
     "output_type": "stream",
     "text": [
      "Average Gaze Percentage: -0.57\n",
      "56.69\n",
      "56.6910274391002\n"
     ]
    },
    {
     "name": "stderr",
     "output_type": "stream",
     "text": [
      "t=2023-08-17T07:50:09+0530 lvl=eror msg=\"heartbeat timeout, terminating session\" obj=tunnels.session obj=csess id=73a315379c8e clientid=6ba9553fee1dbda762ea7892a1d8b2da\n",
      "t=2023-08-17T07:50:17+0530 lvl=eror msg=\"session closed, starting reconnect loop\" obj=tunnels.session obj=csess id=3da053ccfe69 err=\"session closed\"\n"
     ]
    }
   ],
   "source": [
    "if __name__ == '__main__':\n",
    "    # Set up ngrok and expose the Flask app\n",
    "    ngrok_tunnel = ngrok.connect(5000)\n",
    "    print('Public URL:', ngrok_tunnel.public_url)\n",
    "    app.run(host='localhost', port=5000)"
   ]
  }
 ],
 "metadata": {
  "kernelspec": {
   "display_name": "Python 3",
   "language": "python",
   "name": "python3"
  },
  "language_info": {
   "codemirror_mode": {
    "name": "ipython",
    "version": 3
   },
   "file_extension": ".py",
   "mimetype": "text/x-python",
   "name": "python",
   "nbconvert_exporter": "python",
   "pygments_lexer": "ipython3",
   "version": "3.10.12"
  },
  "orig_nbformat": 4
 },
 "nbformat": 4,
 "nbformat_minor": 2
}
