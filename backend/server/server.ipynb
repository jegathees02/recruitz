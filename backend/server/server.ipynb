{
 "cells": [
  {
   "cell_type": "code",
   "execution_count": 1,
   "metadata": {},
   "outputs": [],
   "source": [
    "from flask import Flask, request, jsonify\n",
    "from flask_cors import CORS\n",
    "from IPython import get_ipython\n",
    "import os\n",
    "import base64\n",
    "from pyngrok import ngrok\n",
    "import random\n",
    "import eye_tracking\n",
    "import voice"
   ]
  },
  {
   "cell_type": "code",
   "execution_count": 2,
   "metadata": {},
   "outputs": [],
   "source": [
    "# pip install import-ipynb\n",
    "# import import_ipynb\n",
    "# from \"../voice\" import voice.ipynb\n",
    "# %run ../voice/voice.ipynb\n",
    "# import sys\n",
    "# sys.path.append(\"../voice\")\n",
    "# sys.path.append(\"../video\")\n",
    "# sys.path.append(\"../eye_track\")\n",
    "# from eye_track import eye_tracking as eye_main\n",
    "\n",
    "\n"
   ]
  },
  {
   "cell_type": "code",
   "execution_count": 3,
   "metadata": {},
   "outputs": [
    {
     "data": {
      "text/plain": [
       "<flask_cors.extension.CORS at 0x7f1f91e10ca0>"
      ]
     },
     "execution_count": 3,
     "metadata": {},
     "output_type": "execute_result"
    }
   ],
   "source": [
    "app = Flask(__name__)\n",
    "CORS(app)"
   ]
  },
  {
   "cell_type": "code",
   "execution_count": 4,
   "metadata": {},
   "outputs": [],
   "source": [
    "# Set the path to store videos\n",
    "UPLOAD_FOLDER = '/home/jegathees5555/Documents/recruitz/backend/video/'\n",
    "app.config['UPLOAD_FOLDER'] = UPLOAD_FOLDER"
   ]
  },
  {
   "cell_type": "code",
   "execution_count": 5,
   "metadata": {},
   "outputs": [],
   "source": [
    "def upload_video(video_data):        \n",
    "   \n",
    "\n",
    "    if video_data:\n",
    "        video_name = 'uploaded_video.webm'\n",
    "        video_path = os.path.join(app.config['UPLOAD_FOLDER'], video_name)\n",
    "        print(video_path)\n",
    "        print(video_name)\n",
    "        video_data.save(video_path)  # Save the file\n",
    "        \n",
    "        \n",
    "        \n",
    "        # return result\n",
    "        return jsonify({'message': 'Video uploaded successfully'}), 200\n",
    "    else:\n",
    "        return jsonify({'error': 'No video data provided'}), 400"
   ]
  },
  {
   "cell_type": "code",
   "execution_count": 6,
   "metadata": {},
   "outputs": [],
   "source": [
    "def eye_track_module():\n",
    "    # Run the other Jupyter notebook with the correct path\n",
    "        eye_tracking_notebook_path = '/home/jegathees5555/Documents/recruitz/backend/eye_track/EyeTracking.ipynb'\n",
    "        # get_ipython().run_line_magic('run', eye_tracking_notebook_path)\n",
    "\n",
    "        result = eye_tracking.eye_tracking_method('/home/jegathees5555/Documents/recruitz/backend/video/uploaded_video.webm')\n",
    "        print(result)\n",
    "        return result"
   ]
  },
  {
   "cell_type": "code",
   "execution_count": 7,
   "metadata": {},
   "outputs": [],
   "source": [
    "# from backend.eye_track.eye_tracking import eye_tracking\n",
    "\n",
    "\n",
    "@app.route('/upload_video_new', methods=['POST'])\n",
    "def upload_frontend_video():\n",
    "    try:\n",
    "         # Remove the assumption of JSON data\n",
    "        video_data = request.files['videoData']\n",
    "        upload_video(video_data)\n",
    "    except Exception as e:\n",
    "        return jsonify({'error': str(e)}), 500\n",
    "    \n",
    "    try:\n",
    "        result = eye_track_module()\n",
    "    except Exception as e:\n",
    "        return jsonify({'error': str(e)}), 500\n",
    "    \n",
    "    result_str = str(result)\n",
    "\n",
    "    return jsonify({'message': 'Video uploaded successfully', 'result': result_str}), 200\n",
    "    "
   ]
  },
  {
   "cell_type": "code",
   "execution_count": 8,
   "metadata": {},
   "outputs": [],
   "source": [
    "@app.route('/get_result', methods=['GET'])\n",
    "def getResult():\n",
    "    try:\n",
    "        result = eye_tracking.eye_tracking_method('/home/jegathees5555/Documents/recruitz/backend/video/uploaded_video.webm')\n",
    "        return result\n",
    "    except Exception as e:\n",
    "        return \"Error occured \"+e\n"
   ]
  },
  {
   "cell_type": "code",
   "execution_count": 9,
   "metadata": {},
   "outputs": [],
   "source": [
    "# if __name__ == '__main__':\n",
    "#     # Start the Flask app\n",
    "#     app.run()"
   ]
  },
  {
   "cell_type": "code",
   "execution_count": 10,
   "metadata": {},
   "outputs": [
    {
     "name": "stderr",
     "output_type": "stream",
     "text": [
      "t=2023-08-16T16:37:53+0530 lvl=warn msg=\"ngrok config file found at legacy location, move to XDG location\" xdg_path=/home/jegathees5555/.config/ngrok/ngrok.yml legacy_path=/home/jegathees5555/.ngrok2/ngrok.yml\n"
     ]
    },
    {
     "name": "stdout",
     "output_type": "stream",
     "text": [
      "Public URL: https://91ad-117-239-104-11.ngrok.io\n",
      " * Serving Flask app '__main__'\n",
      " * Debug mode: off\n"
     ]
    },
    {
     "name": "stderr",
     "output_type": "stream",
     "text": [
      "WARNING: This is a development server. Do not use it in a production deployment. Use a production WSGI server instead.\n",
      " * Running on http://localhost:5000\n",
      "Press CTRL+C to quit\n"
     ]
    },
    {
     "name": "stdout",
     "output_type": "stream",
     "text": [
      "/home/jegathees5555/Documents/recruitz/backend/video/uploaded_video.webm\n",
      "uploaded_video.webm\n"
     ]
    },
    {
     "name": "stderr",
     "output_type": "stream",
     "text": [
      "127.0.0.1 - - [16/Aug/2023 16:39:13] \"POST /upload_video_new HTTP/1.1\" 200 -\n"
     ]
    },
    {
     "name": "stdout",
     "output_type": "stream",
     "text": [
      "Average Gaze Percentage: -0.80\n",
      "79.70\n",
      "<Response 70 bytes [200 OK]>\n"
     ]
    },
    {
     "name": "stderr",
     "output_type": "stream",
     "text": [
      "t=2023-08-16T16:40:40+0530 lvl=eror msg=\"heartbeat timeout, terminating session\" obj=tunnels.session obj=csess id=b86617bb6ec6 clientid=04f5318472c94dc0d7bb60386b4ee4b7\n",
      "t=2023-08-16T16:40:40+0530 lvl=eror msg=\"session closed, starting reconnect loop\" obj=tunnels.session obj=csess id=b9b4cd116b51 err=\"session closed\"\n",
      "t=2023-08-16T16:40:43+0530 lvl=eror msg=\"failed to reconnect session\" obj=tunnels.session obj=csess id=b9b4cd116b51 err=\"failed to dial ngrok server with address \\\"tunnel.us.ngrok.com:443\\\": dial tcp: lookup tunnel.us.ngrok.com on 127.0.0.53:53: server misbehaving\"\n",
      "t=2023-08-16T16:40:44+0530 lvl=eror msg=\"failed to reconnect session\" obj=tunnels.session obj=csess id=b9b4cd116b51 err=\"failed to dial ngrok server with address \\\"tunnel.us.ngrok.com:443\\\": dial tcp: lookup tunnel.us.ngrok.com on 127.0.0.53:53: server misbehaving\"\n",
      "t=2023-08-16T16:41:21+0530 lvl=eror msg=\"heartbeat timeout, terminating session\" obj=tunnels.session obj=csess id=6b1169085faa clientid=04f5318472c94dc0d7bb60386b4ee4b7\n",
      "t=2023-08-16T16:41:21+0530 lvl=eror msg=\"session closed, starting reconnect loop\" obj=tunnels.session obj=csess id=b9b4cd116b51 err=\"session closed\"\n",
      "t=2023-08-16T16:41:21+0530 lvl=eror msg=\"failed to reconnect session\" obj=tunnels.session obj=csess id=b9b4cd116b51 err=\"failed to dial ngrok server with address \\\"tunnel.us.ngrok.com:443\\\": dial tcp: lookup tunnel.us.ngrok.com on 127.0.0.53:53: server misbehaving\"\n",
      "t=2023-08-16T16:41:21+0530 lvl=eror msg=\"failed to reconnect session\" obj=tunnels.session obj=csess id=b9b4cd116b51 err=\"failed to dial ngrok server with address \\\"tunnel.us.ngrok.com:443\\\": dial tcp: lookup tunnel.us.ngrok.com on 127.0.0.53:53: server misbehaving\"\n",
      "t=2023-08-16T16:41:22+0530 lvl=eror msg=\"failed to reconnect session\" obj=tunnels.session obj=csess id=b9b4cd116b51 err=\"failed to dial ngrok server with address \\\"tunnel.us.ngrok.com:443\\\": dial tcp: lookup tunnel.us.ngrok.com on 127.0.0.53:53: server misbehaving\"\n",
      "t=2023-08-16T16:41:29+0530 lvl=eror msg=\"failed to reconnect session\" obj=tunnels.session obj=csess id=b9b4cd116b51 err=\"failed to dial ngrok server with address \\\"tunnel.us.ngrok.com:443\\\": dial tcp: lookup tunnel.us.ngrok.com on 127.0.0.53:53: server misbehaving\"\n",
      "t=2023-08-16T16:42:29+0530 lvl=eror msg=\"heartbeat timeout, terminating session\" obj=tunnels.session obj=csess id=f93ef2e9bbad clientid=04f5318472c94dc0d7bb60386b4ee4b7\n",
      "t=2023-08-16T16:42:29+0530 lvl=eror msg=\"session closed, starting reconnect loop\" obj=tunnels.session obj=csess id=b9b4cd116b51 err=\"session closed\"\n",
      "t=2023-08-16T16:42:29+0530 lvl=eror msg=\"failed to reconnect session\" obj=tunnels.session obj=csess id=b9b4cd116b51 err=\"failed to dial ngrok server with address \\\"tunnel.us.ngrok.com:443\\\": dial tcp: lookup tunnel.us.ngrok.com on 127.0.0.53:53: server misbehaving\"\n",
      "t=2023-08-16T16:42:30+0530 lvl=eror msg=\"failed to reconnect session\" obj=tunnels.session obj=csess id=b9b4cd116b51 err=\"failed to dial ngrok server with address \\\"tunnel.us.ngrok.com:443\\\": dial tcp: lookup tunnel.us.ngrok.com on 127.0.0.53:53: server misbehaving\"\n",
      "t=2023-08-16T16:42:31+0530 lvl=eror msg=\"failed to reconnect session\" obj=tunnels.session obj=csess id=b9b4cd116b51 err=\"failed to dial ngrok server with address \\\"tunnel.us.ngrok.com:443\\\": dial tcp: lookup tunnel.us.ngrok.com on 127.0.0.53:53: server misbehaving\"\n",
      "t=2023-08-16T16:42:58+0530 lvl=eror msg=\"heartbeat timeout, terminating session\" obj=tunnels.session obj=csess id=1f8dbf066dd0 clientid=04f5318472c94dc0d7bb60386b4ee4b7\n",
      "t=2023-08-16T16:42:58+0530 lvl=eror msg=\"session closed, starting reconnect loop\" obj=tunnels.session obj=csess id=b9b4cd116b51 err=\"session closed\"\n",
      "t=2023-08-16T16:43:23+0530 lvl=eror msg=\"heartbeat timeout, terminating session\" obj=tunnels.session obj=csess id=c5d69940a70c clientid=04f5318472c94dc0d7bb60386b4ee4b7\n",
      "t=2023-08-16T16:43:23+0530 lvl=eror msg=\"session closed, starting reconnect loop\" obj=tunnels.session obj=csess id=b9b4cd116b51 err=\"session closed\"\n",
      "t=2023-08-16T16:44:09+0530 lvl=eror msg=\"heartbeat timeout, terminating session\" obj=tunnels.session obj=csess id=c326fc66a732 clientid=04f5318472c94dc0d7bb60386b4ee4b7\n",
      "t=2023-08-16T16:44:09+0530 lvl=eror msg=\"session closed, starting reconnect loop\" obj=tunnels.session obj=csess id=b9b4cd116b51 err=\"session closed\"\n",
      "t=2023-08-16T16:44:55+0530 lvl=eror msg=\"heartbeat timeout, terminating session\" obj=tunnels.session obj=csess id=d1537e644b2f clientid=04f5318472c94dc0d7bb60386b4ee4b7\n",
      "t=2023-08-16T16:44:55+0530 lvl=eror msg=\"session closed, starting reconnect loop\" obj=tunnels.session obj=csess id=b9b4cd116b51 err=\"session closed\"\n",
      "t=2023-08-16T16:45:21+0530 lvl=eror msg=\"heartbeat timeout, terminating session\" obj=tunnels.session obj=csess id=3d99c8658b27 clientid=04f5318472c94dc0d7bb60386b4ee4b7\n",
      "t=2023-08-16T16:45:21+0530 lvl=eror msg=\"session closed, starting reconnect loop\" obj=tunnels.session obj=csess id=b9b4cd116b51 err=\"session closed\"\n",
      "t=2023-08-16T16:49:07+0530 lvl=eror msg=\"heartbeat timeout, terminating session\" obj=tunnels.session obj=csess id=72c28ab8daaf clientid=04f5318472c94dc0d7bb60386b4ee4b7\n",
      "t=2023-08-16T16:49:07+0530 lvl=eror msg=\"session closed, starting reconnect loop\" obj=tunnels.session obj=csess id=b9b4cd116b51 err=\"session closed\"\n",
      "t=2023-08-16T16:51:03+0530 lvl=eror msg=\"heartbeat timeout, terminating session\" obj=tunnels.session obj=csess id=59842efda3d5 clientid=04f5318472c94dc0d7bb60386b4ee4b7\n",
      "t=2023-08-16T16:51:03+0530 lvl=eror msg=\"session closed, starting reconnect loop\" obj=tunnels.session obj=csess id=b9b4cd116b51 err=\"session closed\"\n",
      "t=2023-08-16T16:51:03+0530 lvl=eror msg=\"failed to reconnect session\" obj=tunnels.session obj=csess id=b9b4cd116b51 err=\"failed to dial ngrok server with address \\\"tunnel.us.ngrok.com:443\\\": dial tcp: lookup tunnel.us.ngrok.com on 127.0.0.53:53: server misbehaving\"\n",
      "t=2023-08-16T16:51:04+0530 lvl=eror msg=\"failed to reconnect session\" obj=tunnels.session obj=csess id=b9b4cd116b51 err=\"failed to dial ngrok server with address \\\"tunnel.us.ngrok.com:443\\\": dial tcp: lookup tunnel.us.ngrok.com on 127.0.0.53:53: server misbehaving\"\n",
      "t=2023-08-16T16:51:05+0530 lvl=eror msg=\"failed to reconnect session\" obj=tunnels.session obj=csess id=b9b4cd116b51 err=\"failed to dial ngrok server with address \\\"tunnel.us.ngrok.com:443\\\": dial tcp: lookup tunnel.us.ngrok.com on 127.0.0.53:53: server misbehaving\"\n",
      "t=2023-08-16T16:51:07+0530 lvl=eror msg=\"failed to reconnect session\" obj=tunnels.session obj=csess id=b9b4cd116b51 err=\"failed to dial ngrok server with address \\\"tunnel.us.ngrok.com:443\\\": dial tcp: lookup tunnel.us.ngrok.com on 127.0.0.53:53: server misbehaving\"\n"
     ]
    }
   ],
   "source": [
    "if __name__ == '__main__':\n",
    "    # Set up ngrok and expose the Flask app\n",
    "    ngrok_tunnel = ngrok.connect(5000)\n",
    "    print('Public URL:', ngrok_tunnel.public_url)\n",
    "    app.run(host='localhost', port=5000)"
   ]
  }
 ],
 "metadata": {
  "kernelspec": {
   "display_name": "Python 3",
   "language": "python",
   "name": "python3"
  },
  "language_info": {
   "codemirror_mode": {
    "name": "ipython",
    "version": 3
   },
   "file_extension": ".py",
   "mimetype": "text/x-python",
   "name": "python",
   "nbconvert_exporter": "python",
   "pygments_lexer": "ipython3",
   "version": "3.10.12"
  },
  "orig_nbformat": 4
 },
 "nbformat": 4,
 "nbformat_minor": 2
}
